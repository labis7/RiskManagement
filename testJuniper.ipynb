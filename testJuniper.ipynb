{
 "cells": [
  {
   "cell_type": "code",
   "execution_count": 7,
   "metadata": {},
   "outputs": [
    {
     "name": "stdout",
     "output_type": "stream",
     "text": [
      "Hello world!\n",
      "\n",
      "\n",
      "\n",
      "    Symbol             Date/Time  Quantity  T. Price  Proceeds\n",
      "0       AI  2024-09-05, 04:34:06        15   18.8400  -282.600\n",
      "1       AI  2024-09-06, 09:41:52       -15   21.3900   320.850\n",
      "3     ANRO  2024-10-24, 00:46:59        25    4.5260  -113.150\n",
      "4     ANRO  2024-10-25, 10:06:56       -25    4.0200   100.500\n",
      "6     COIN  2024-08-22, 09:50:40       -10  202.5700  2025.700\n",
      "..     ...                   ...       ...       ...       ...\n",
      "154   TSLA  2024-11-08, 10:19:43       -10  312.9400  3129.400\n",
      "155   TSLA  2024-11-15, 02:31:12         5  306.4500 -1532.250\n",
      "156   TSLA  2024-11-18, 02:03:42        -5  336.9000  1684.500\n",
      "157   TSLA  2024-12-05, 09:32:00        10  364.7698 -3647.698\n",
      "158   TSLA  2024-12-06, 16:01:25       -10  389.2800  3892.800\n",
      "\n",
      "[150 rows x 5 columns]\n"
     ]
    }
   ],
   "source": [
    "print(\"Hello world!\")\n",
    "\n",
    "## https://www.geeksforgeeks.org/select-rows-columns-by-name-or-index-in-pandas-dataframe-using-loc-iloc/\n",
    "import pandas as pd\n",
    "\n",
    "# Load the CSV file\n",
    "df = pd.read_csv(\"U15630142_2024_2024_filtered.csv\" , sep=\";\")#on_bad_lines='skip')\n",
    "\n",
    "\n",
    "df = df[df['DataDiscriminator'] == 'Order'] # remove other types of trades like subtotal and total, focus on orders only\n",
    "df = df.loc[:, [\"Symbol\", \"Date/Time\", \"Quantity\", \"T. Price\", \"Proceeds\"]]\n",
    "# Display the first few rows (optional)\n",
    "#print(df.head())\n",
    "\n",
    "# Filtering columns (selecting specific ones)\n",
    "#selected_columns = [\"column_name1\", \"column_name2\"]  # Replace with actual column names\n",
    "#df_filtered_columns = df[selected_columns]\n",
    "\n",
    "# Filtering rows (by text value in a specific column)\n",
    "#filtered_rows = df[df[\"Trades\"]]  # Replace with actual column name and text\n",
    "#result_loc = df.loc[0, 'Name']  # Select value at row 0 and column 'name'\n",
    "# Filtering both rows and columns together\n",
    "#df_filtered = df_filtered_columns[df_filtered_columns[\"column_name\"] == \"desired_text_value\"]\n",
    "\n",
    "# Display the result\n",
    "print(\"\\n\\n\")\n",
    "#print(df.loc[1:10,\"Symbol\"])\n",
    "print(df)\n",
    "\n",
    "\n",
    "\n",
    "# Save the filtered data if needed\n",
    "#df_filtered.to_csv(\"filtered_output.csv\", index=False)\n",
    "\n"
   ]
  },
  {
   "cell_type": "code",
   "execution_count": 11,
   "metadata": {},
   "outputs": [
    {
     "name": "stdout",
     "output_type": "stream",
     "text": [
      "['AI' '2024-09-05, 04:34:06' np.int64(15) np.float64(18.84)\n",
      " np.float64(-282.6)]\n"
     ]
    }
   ],
   "source": [
    "print(df.loc[0].values) # that makes a list of the values\n",
    "\n",
    "def normalizeTrades(df):\n",
    "\n",
    "    \n",
    "    return"
   ]
  }
 ],
 "metadata": {
  "kernelspec": {
   "display_name": "revoam",
   "language": "python",
   "name": "python3"
  },
  "language_info": {
   "codemirror_mode": {
    "name": "ipython",
    "version": 3
   },
   "file_extension": ".py",
   "mimetype": "text/x-python",
   "name": "python",
   "nbconvert_exporter": "python",
   "pygments_lexer": "ipython3",
   "version": "3.9.20"
  }
 },
 "nbformat": 4,
 "nbformat_minor": 2
}
